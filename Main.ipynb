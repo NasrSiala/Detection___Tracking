{
  "cells": [
    {
      "cell_type": "markdown",
      "metadata": {
        "id": "view-in-github",
        "colab_type": "text"
      },
      "source": [
        "<a href=\"https://colab.research.google.com/github/NasrSiala/Detection___Tracking/blob/main/Main.ipynb\" target=\"_parent\"><img src=\"https://colab.research.google.com/assets/colab-badge.svg\" alt=\"Open In Colab\"/></a>"
      ]
    },
    {
      "cell_type": "code",
      "execution_count": null,
      "metadata": {
        "id": "tgFRh_Qid8jV"
      },
      "outputs": [],
      "source": [
        "# Installing ffmpeg\n",
        "!apt-get -qq install ffmpeg\n",
        "\n",
        "# import the library\n",
        "import os\n",
        "import cv2\n",
        "import matplotlib.pyplot as plt\n",
        "import numpy as np\n",
        "\n",
        "from IPython.display import display, HTML\n",
        "from base64 import b64encode\n",
        "\n",
        "%matplotlib inline"
      ]
    },
    {
      "cell_type": "code",
      "execution_count": null,
      "metadata": {
        "colab": {
          "base_uri": "https://localhost:8080/",
          "height": 177
        },
        "id": "LTy31z6veG6z",
        "outputId": "8e412dc9-252f-483b-be5d-a13b47b6e161"
      },
      "outputs": [
        {
          "data": {
            "text/html": [
              "\n",
              "     <input type=\"file\" id=\"files-28b0a22d-dc06-49d4-97f0-b183e90d8a82\" name=\"files[]\" multiple disabled\n",
              "        style=\"border:none\" />\n",
              "     <output id=\"result-28b0a22d-dc06-49d4-97f0-b183e90d8a82\">\n",
              "      Upload widget is only available when the cell has been executed in the\n",
              "      current browser session. Please rerun this cell to enable.\n",
              "      </output>\n",
              "      <script>// Copyright 2017 Google LLC\n",
              "//\n",
              "// Licensed under the Apache License, Version 2.0 (the \"License\");\n",
              "// you may not use this file except in compliance with the License.\n",
              "// You may obtain a copy of the License at\n",
              "//\n",
              "//      http://www.apache.org/licenses/LICENSE-2.0\n",
              "//\n",
              "// Unless required by applicable law or agreed to in writing, software\n",
              "// distributed under the License is distributed on an \"AS IS\" BASIS,\n",
              "// WITHOUT WARRANTIES OR CONDITIONS OF ANY KIND, either express or implied.\n",
              "// See the License for the specific language governing permissions and\n",
              "// limitations under the License.\n",
              "\n",
              "/**\n",
              " * @fileoverview Helpers for google.colab Python module.\n",
              " */\n",
              "(function(scope) {\n",
              "function span(text, styleAttributes = {}) {\n",
              "  const element = document.createElement('span');\n",
              "  element.textContent = text;\n",
              "  for (const key of Object.keys(styleAttributes)) {\n",
              "    element.style[key] = styleAttributes[key];\n",
              "  }\n",
              "  return element;\n",
              "}\n",
              "\n",
              "// Max number of bytes which will be uploaded at a time.\n",
              "const MAX_PAYLOAD_SIZE = 100 * 1024;\n",
              "\n",
              "function _uploadFiles(inputId, outputId) {\n",
              "  const steps = uploadFilesStep(inputId, outputId);\n",
              "  const outputElement = document.getElementById(outputId);\n",
              "  // Cache steps on the outputElement to make it available for the next call\n",
              "  // to uploadFilesContinue from Python.\n",
              "  outputElement.steps = steps;\n",
              "\n",
              "  return _uploadFilesContinue(outputId);\n",
              "}\n",
              "\n",
              "// This is roughly an async generator (not supported in the browser yet),\n",
              "// where there are multiple asynchronous steps and the Python side is going\n",
              "// to poll for completion of each step.\n",
              "// This uses a Promise to block the python side on completion of each step,\n",
              "// then passes the result of the previous step as the input to the next step.\n",
              "function _uploadFilesContinue(outputId) {\n",
              "  const outputElement = document.getElementById(outputId);\n",
              "  const steps = outputElement.steps;\n",
              "\n",
              "  const next = steps.next(outputElement.lastPromiseValue);\n",
              "  return Promise.resolve(next.value.promise).then((value) => {\n",
              "    // Cache the last promise value to make it available to the next\n",
              "    // step of the generator.\n",
              "    outputElement.lastPromiseValue = value;\n",
              "    return next.value.response;\n",
              "  });\n",
              "}\n",
              "\n",
              "/**\n",
              " * Generator function which is called between each async step of the upload\n",
              " * process.\n",
              " * @param {string} inputId Element ID of the input file picker element.\n",
              " * @param {string} outputId Element ID of the output display.\n",
              " * @return {!Iterable<!Object>} Iterable of next steps.\n",
              " */\n",
              "function* uploadFilesStep(inputId, outputId) {\n",
              "  const inputElement = document.getElementById(inputId);\n",
              "  inputElement.disabled = false;\n",
              "\n",
              "  const outputElement = document.getElementById(outputId);\n",
              "  outputElement.innerHTML = '';\n",
              "\n",
              "  const pickedPromise = new Promise((resolve) => {\n",
              "    inputElement.addEventListener('change', (e) => {\n",
              "      resolve(e.target.files);\n",
              "    });\n",
              "  });\n",
              "\n",
              "  const cancel = document.createElement('button');\n",
              "  inputElement.parentElement.appendChild(cancel);\n",
              "  cancel.textContent = 'Cancel upload';\n",
              "  const cancelPromise = new Promise((resolve) => {\n",
              "    cancel.onclick = () => {\n",
              "      resolve(null);\n",
              "    };\n",
              "  });\n",
              "\n",
              "  // Wait for the user to pick the files.\n",
              "  const files = yield {\n",
              "    promise: Promise.race([pickedPromise, cancelPromise]),\n",
              "    response: {\n",
              "      action: 'starting',\n",
              "    }\n",
              "  };\n",
              "\n",
              "  cancel.remove();\n",
              "\n",
              "  // Disable the input element since further picks are not allowed.\n",
              "  inputElement.disabled = true;\n",
              "\n",
              "  if (!files) {\n",
              "    return {\n",
              "      response: {\n",
              "        action: 'complete',\n",
              "      }\n",
              "    };\n",
              "  }\n",
              "\n",
              "  for (const file of files) {\n",
              "    const li = document.createElement('li');\n",
              "    li.append(span(file.name, {fontWeight: 'bold'}));\n",
              "    li.append(span(\n",
              "        `(${file.type || 'n/a'}) - ${file.size} bytes, ` +\n",
              "        `last modified: ${\n",
              "            file.lastModifiedDate ? file.lastModifiedDate.toLocaleDateString() :\n",
              "                                    'n/a'} - `));\n",
              "    const percent = span('0% done');\n",
              "    li.appendChild(percent);\n",
              "\n",
              "    outputElement.appendChild(li);\n",
              "\n",
              "    const fileDataPromise = new Promise((resolve) => {\n",
              "      const reader = new FileReader();\n",
              "      reader.onload = (e) => {\n",
              "        resolve(e.target.result);\n",
              "      };\n",
              "      reader.readAsArrayBuffer(file);\n",
              "    });\n",
              "    // Wait for the data to be ready.\n",
              "    let fileData = yield {\n",
              "      promise: fileDataPromise,\n",
              "      response: {\n",
              "        action: 'continue',\n",
              "      }\n",
              "    };\n",
              "\n",
              "    // Use a chunked sending to avoid message size limits. See b/62115660.\n",
              "    let position = 0;\n",
              "    do {\n",
              "      const length = Math.min(fileData.byteLength - position, MAX_PAYLOAD_SIZE);\n",
              "      const chunk = new Uint8Array(fileData, position, length);\n",
              "      position += length;\n",
              "\n",
              "      const base64 = btoa(String.fromCharCode.apply(null, chunk));\n",
              "      yield {\n",
              "        response: {\n",
              "          action: 'append',\n",
              "          file: file.name,\n",
              "          data: base64,\n",
              "        },\n",
              "      };\n",
              "\n",
              "      let percentDone = fileData.byteLength === 0 ?\n",
              "          100 :\n",
              "          Math.round((position / fileData.byteLength) * 100);\n",
              "      percent.textContent = `${percentDone}% done`;\n",
              "\n",
              "    } while (position < fileData.byteLength);\n",
              "  }\n",
              "\n",
              "  // All done.\n",
              "  yield {\n",
              "    response: {\n",
              "      action: 'complete',\n",
              "    }\n",
              "  };\n",
              "}\n",
              "\n",
              "scope.google = scope.google || {};\n",
              "scope.google.colab = scope.google.colab || {};\n",
              "scope.google.colab._files = {\n",
              "  _uploadFiles,\n",
              "  _uploadFilesContinue,\n",
              "};\n",
              "})(self);\n",
              "</script> "
            ],
            "text/plain": [
              "<IPython.core.display.HTML object>"
            ]
          },
          "metadata": {},
          "output_type": "display_data"
        },
        {
          "name": "stdout",
          "output_type": "stream",
          "text": [
            "Saving City Traffic.mp4 to City Traffic.mp4\n",
            "Saving coco_class_labels.txt to coco_class_labels.txt\n",
            "Saving frozen_inference_graph.pb to frozen_inference_graph.pb\n",
            "Saving ssd_mobilenet_v2_coco_2018_03_29.pbtxt to ssd_mobilenet_v2_coco_2018_03_29.pbtxt\n"
          ]
        }
      ],
      "source": [
        "from google.colab import files\n",
        "uploaded = files.upload()"
      ]
    },
    {
      "cell_type": "code",
      "execution_count": null,
      "metadata": {
        "id": "kSCxehx2eI5V"
      },
      "outputs": [],
      "source": [
        "# Read file\n",
        "classFile  = \"coco_class_labels.txt\"\n",
        "with open(classFile) as fp:\n",
        "    labels = fp.read().split(\"\\n\")"
      ]
    },
    {
      "cell_type": "code",
      "execution_count": null,
      "metadata": {
        "id": "mboUoHkAeL_Z"
      },
      "outputs": [],
      "source": [
        "modelFile  = \"frozen_inference_graph.pb\"\n",
        "configFile = \"ssd_mobilenet_v2_coco_2018_03_29.pbtxt\""
      ]
    },
    {
      "cell_type": "code",
      "execution_count": null,
      "metadata": {
        "id": "pSpqHyWxeOpl"
      },
      "outputs": [],
      "source": [
        "# Read the Tensorflow network\n",
        "net = cv2.dnn.readNetFromTensorflow(modelFile, configFile)"
      ]
    },
    {
      "cell_type": "code",
      "execution_count": null,
      "metadata": {
        "id": "0-2qSBUheQKo"
      },
      "outputs": [],
      "source": [
        "# For each file in the directory\n",
        "def detect_objects(net, im, dim = 300):\n",
        "\n",
        "    # Create a blob from the image\n",
        "    blob = cv2.dnn.blobFromImage(im, 1.0, size=(dim, dim), mean=(0, 0, 0), swapRB=True, crop=False)\n",
        "\n",
        "    # Pass blob to the network\n",
        "    net.setInput(blob)\n",
        "\n",
        "    # Peform Prediction\n",
        "    objects = net.forward()\n",
        "    return objects"
      ]
    },
    {
      "cell_type": "code",
      "execution_count": null,
      "metadata": {
        "id": "zNaNFwGSecqi"
      },
      "outputs": [],
      "source": [
        "FONTFACE = cv2.FONT_HERSHEY_SIMPLEX\n",
        "FONT_SCALE = 0.7\n",
        "THICKNESS = 1"
      ]
    },
    {
      "cell_type": "code",
      "execution_count": null,
      "metadata": {
        "id": "hk8jcA1sepOC"
      },
      "outputs": [],
      "source": [
        "def display_text(im, text, x, y):\n",
        "    # Get text size\n",
        "    textSize = cv2.getTextSize(text, FONTFACE, FONT_SCALE, THICKNESS)\n",
        "    dim = textSize[0]\n",
        "    baseline = textSize[1]\n",
        "\n",
        "    # Use text size to create a black rectangle\n",
        "    cv2.rectangle(\n",
        "        im,\n",
        "        (x, y - dim[1] - baseline),\n",
        "        (x + dim[0], y + baseline),\n",
        "        (0, 0, 0),\n",
        "        cv2.FILLED,\n",
        "    )\n",
        "\n",
        "    # Display text inside the rectangle\n",
        "    cv2.putText(\n",
        "        im,\n",
        "        text,\n",
        "        (x, y - 5),\n",
        "        FONTFACE,\n",
        "        FONT_SCALE,\n",
        "        (0, 255, 255),\n",
        "        THICKNESS,\n",
        "        cv2.LINE_AA,\n",
        "    )"
      ]
    },
    {
      "cell_type": "code",
      "execution_count": null,
      "metadata": {
        "id": "kYekc6IIemId"
      },
      "outputs": [],
      "source": [
        "def display_objects(im, objects, threshold=0.25):\n",
        "    rows = im.shape[0]\n",
        "    cols = im.shape[1]\n",
        "\n",
        "    # For every Detected Object\n",
        "    for i in range(objects.shape[2]):\n",
        "        # Find the class and confidence\n",
        "        classId = int(objects[0, 0, i, 1])\n",
        "        score = float(objects[0, 0, i, 2])\n",
        "\n",
        "        # Recover original coordinates from normalized coordinates\n",
        "        x = int(objects[0, 0, i, 3] * cols)\n",
        "        y = int(objects[0, 0, i, 4] * rows)\n",
        "        w = int(objects[0, 0, i, 5] * cols - x)\n",
        "        h = int(objects[0, 0, i, 6] * rows - y)\n",
        "\n",
        "        # Check if the detection is of good quality\n",
        "        if score > threshold:\n",
        "            display_text(im, \"{}\".format(labels[classId]), x, y)\n",
        "            cv2.rectangle(im, (x, y), (x + w, y + h), (255, 255, 255), 2)\n",
        "\n",
        "    return im"
      ]
    },
    {
      "cell_type": "code",
      "execution_count": null,
      "metadata": {
        "id": "MTrdDcP-ejbY"
      },
      "outputs": [],
      "source": [
        "# Read video\n",
        "source = 'City Traffic.mp4'\n",
        "cap = cv2.VideoCapture(source)"
      ]
    },
    {
      "cell_type": "code",
      "execution_count": null,
      "metadata": {
        "id": "7A0DOxt1eh9n"
      },
      "outputs": [],
      "source": [
        "# Default resolutions of the frame are obtained.\n",
        "# Convert the resolutions from float to integer.\n",
        "frame_width = int(cap.get(3))\n",
        "frame_height = int(cap.get(4))\n",
        "\n",
        "# Define the codec and create VideoWriter object.\n",
        "out_mp4 = cv2.VideoWriter(\"Out.mp4\", cv2.VideoWriter_fourcc(*\"XVID\"), 100, (frame_width, frame_height))"
      ]
    },
    {
      "cell_type": "code",
      "execution_count": null,
      "metadata": {
        "id": "9KkdOVhpeeW4"
      },
      "outputs": [],
      "source": [
        "# Read until video is completed\n",
        "while cap.isOpened():\n",
        "    # Capture frame-by-frame\n",
        "    ret, frame = cap.read()\n",
        "\n",
        "    if ret:\n",
        "      objects = detect_objects(net, frame)\n",
        "      frame = display_objects(frame, objects, 0.2)\n",
        "      # Write the frame to the output files\n",
        "      out_mp4.write(frame)\n",
        "\n",
        "    # Break the loop\n",
        "    else:\n",
        "        break"
      ]
    },
    {
      "cell_type": "code",
      "execution_count": null,
      "metadata": {
        "id": "Hky-rI9Le1wW"
      },
      "outputs": [],
      "source": [
        "# When everything done, release the VideoCapture and VideoWriter objects\n",
        "cap.release()\n",
        "out_mp4.release()"
      ]
    },
    {
      "cell_type": "code",
      "execution_count": null,
      "metadata": {
        "id": "pyjXp6Wke0TI"
      },
      "outputs": [],
      "source": [
        "# Change video encoding of mp4 file from XVID to h264\n",
        "!ffmpeg -y -i \"/content/Out.mp4\" -c:v libx264 \"Out_x264.mp4\"  -hide_banner -loglevel error"
      ]
    },
    {
      "cell_type": "code",
      "execution_count": null,
      "metadata": {
        "colab": {
          "background_save": true
        },
        "id": "7_NMexFkezIp",
        "outputId": "7de9c9bd-9eec-4d8f-ac1a-e16858928b13"
      },
      "outputs": [
        {
          "name": "stdout",
          "output_type": "stream",
          "text": [
            "Buffered data was truncated after reaching the output size limit."
          ]
        }
      ],
      "source": [
        "#CREATE FINAL FILE\n",
        "mp4 = open(\"/content/Out.mp4\", \"rb\").read()\n",
        "data_url = \"data:video/mp4;base64,\" + b64encode(mp4).decode()\n",
        "\n",
        "HTML(f\"\"\"<video width=700 controls><source src=\"{data_url}\" type=\"video/mp4\"></video>\"\"\")"
      ]
    }
  ],
  "metadata": {
    "colab": {
      "provenance": [],
      "authorship_tag": "ABX9TyNVlN5Qje4S26JbgVstk4N+",
      "include_colab_link": true
    },
    "kernelspec": {
      "display_name": "Python 3",
      "name": "python3"
    },
    "language_info": {
      "name": "python"
    }
  },
  "nbformat": 4,
  "nbformat_minor": 0
}